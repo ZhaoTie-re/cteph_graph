{
 "cells": [
  {
   "cell_type": "code",
   "execution_count": 8,
   "metadata": {},
   "outputs": [],
   "source": [
    "import numpy as np\n",
    "import pandas as pd\n",
    "from sklearn.preprocessing import StandardScaler\n",
    "\n",
    "genotype_path = \"/LARGE0/gr10478/b37974/Pulmonary_Hypertension/cteph_rare_variant/pro_assoc/02.snp_to_soma/low_missing_genotype.csv\"\n",
    "age_sex_path = \"/LARGE0/gr10478/b37974/Pulmonary_Hypertension/Proteome/case_control_prepare/sample.csv\"\n",
    "\n",
    "genotype_df = pd.read_csv(genotype_path, index_col=0)\n",
    "age_sex_df = pd.read_csv(age_sex_path, index_col=0)"
   ]
  },
  {
   "cell_type": "code",
   "execution_count": 9,
   "metadata": {},
   "outputs": [],
   "source": [
    "age_sex_df = age_sex_df.drop('SampleCode', axis=1)\n",
    "age_sex_df['sex_male1_female2'] = age_sex_df['sex_male1_female2'].replace(2, 0)\n",
    "age_sex_df = age_sex_df.rename(columns={'sex_male1_female2': 'sex'})\n",
    "age_sex_df.index = age_sex_df.index.str.replace('_day0', '')\n",
    "age_sex_df = age_sex_df.loc[age_sex_df.index.intersection(genotype_df.columns)]\n",
    "\n",
    "scaler = StandardScaler()\n",
    "age_sex_df['age'] = scaler.fit_transform(age_sex_df[['age']])\n",
    "\n",
    "age_sex_df['group'] = 0\n",
    "age_sex_df['group'] = age_sex_df.index.to_series().apply(lambda x: 1 if x.startswith('PHOM') else 0)"
   ]
  },
  {
   "cell_type": "code",
   "execution_count": 10,
   "metadata": {},
   "outputs": [
    {
     "name": "stderr",
     "output_type": "stream",
     "text": [
      "/tmp/ipykernel_954722/4250337195.py:6: FutureWarning: Downcasting behavior in `replace` is deprecated and will be removed in a future version. To retain the old behavior, explicitly call `result.infer_objects(copy=False)`. To opt-in to the future behavior, set `pd.set_option('future.no_silent_downcasting', True)`\n",
      "  genotype_df = genotype_df.replace({'0/0': 0, '1/0': 1, '0/1': 1, '1/1': 2})\n"
     ]
    }
   ],
   "source": [
    "selected_snp = ['chr5:96783162:C:T', 'chr6:31506394:C:T', 'chr7:12570952:C:T', \n",
    "                'chr11:126338337:G:C', 'chr15:73260253:T:TCCACTTTTCCTTC', 'chr15:81319380:A:G', \n",
    "                'chr16:56982238:G:A', 'chr17:66223742:CA:C', 'chr20:23444046:T:C']\n",
    "\n",
    "genotype_df = genotype_df.loc[selected_snp]\n",
    "genotype_df = genotype_df.replace({'0/0': 0, '1/0': 1, '0/1': 1, '1/1': 2})\n",
    "genotype_df = genotype_df.astype('float64')\n",
    "\n",
    "genotype_df = genotype_df.transpose()\n",
    "genotype_df = genotype_df.reindex(age_sex_df.index)"
   ]
  },
  {
   "cell_type": "code",
   "execution_count": 26,
   "metadata": {},
   "outputs": [
    {
     "name": "stdout",
     "output_type": "stream",
     "text": [
      "Optimization terminated successfully.\n",
      "         Current function value: 0.463255\n",
      "         Iterations 7\n",
      "                           Logit Regression Results                           \n",
      "==============================================================================\n",
      "Dep. Variable:                  group   No. Observations:                  111\n",
      "Model:                          Logit   Df Residuals:                      108\n",
      "Method:                           MLE   Df Model:                            2\n",
      "Date:                Thu, 19 Dec 2024   Pseudo R-squ.:                  0.2854\n",
      "Time:                        14:39:13   Log-Likelihood:                -51.421\n",
      "converged:                       True   LL-Null:                       -71.959\n",
      "Covariance Type:            nonrobust   LLR p-value:                 1.204e-09\n",
      "=====================================================================================\n",
      "                        coef    std err          z      P>|z|      [0.025      0.975]\n",
      "-------------------------------------------------------------------------------------\n",
      "chr5:96783162:C:T     1.1691      0.941      1.242      0.214      -0.676       3.014\n",
      "sex                  -2.6713      0.587     -4.554      0.000      -3.821      -1.522\n",
      "age                  -0.7072      0.235     -3.010      0.003      -1.168      -0.247\n",
      "=====================================================================================\n"
     ]
    }
   ],
   "source": [
    "import pandas as pd\n",
    "import statsmodels.api as sm\n",
    "\n",
    "snp = 'chr5:96783162:C:T'\n",
    "\n",
    "genotype_series = genotype_df[[f'{snp}']]\n",
    "combined_df = genotype_series.join(age_sex_df)\n",
    "combined_df = combined_df.dropna()\n",
    "# combined_df['intercept'] = 1.0\n",
    "\n",
    "# 指定模型的自变量和因变量\n",
    "X = combined_df.drop('group', axis=1) \n",
    "y = combined_df['group'] \n",
    "\n",
    "model = sm.Logit(y, X)\n",
    "result = model.fit()\n",
    "\n",
    "print(result.summary())\n"
   ]
  }
 ],
 "metadata": {
  "kernelspec": {
   "display_name": "cteph_geno_pro",
   "language": "python",
   "name": "python3"
  },
  "language_info": {
   "codemirror_mode": {
    "name": "ipython",
    "version": 3
   },
   "file_extension": ".py",
   "mimetype": "text/x-python",
   "name": "python",
   "nbconvert_exporter": "python",
   "pygments_lexer": "ipython3",
   "version": "3.12.3"
  }
 },
 "nbformat": 4,
 "nbformat_minor": 2
}
