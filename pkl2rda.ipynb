{
 "cells": [
  {
   "cell_type": "code",
   "execution_count": 5,
   "metadata": {},
   "outputs": [
    {
     "name": "stdout",
     "output_type": "stream",
     "text": [
      "Processing chr1:169514323:T:C\n",
      "chr1:169514323:T:C has 5835 rows and 5 columns\n",
      "Processing chr4:154586438:T:C\n",
      "chr4:154586438:T:C has 5835 rows and 5 columns\n",
      "Processing chr4:154590745:T:C\n",
      "chr4:154590745:T:C has 5835 rows and 5 columns\n",
      "Processing chr4:154599778:G:A\n",
      "chr4:154599778:G:A has 5835 rows and 5 columns\n",
      "Processing chr4:186286227:C:T\n",
      "chr4:186286227:C:T has 5835 rows and 5 columns\n",
      "Processing chr9:133261703:A:G\n",
      "chr9:133261703:A:G has 5835 rows and 5 columns\n",
      "Processing chr19:10631494:A:G\n",
      "chr19:10631494:A:G has 5835 rows and 5 columns\n",
      "Processing chr20:23048087:G:A\n",
      "chr20:23048087:G:A has 5835 rows and 5 columns\n",
      "Processing chr20:34984375:G:A\n",
      "chr20:34984375:G:A has 5835 rows and 5 columns\n"
     ]
    }
   ],
   "source": [
    "import pandas as pd\n",
    "import rpy2.robjects as ro\n",
    "from rpy2.robjects import pandas2ri\n",
    "from rpy2.robjects.packages import importr\n",
    "from rpy2.robjects.vectors import StrVector\n",
    "\n",
    "pandas2ri.activate()\n",
    "\n",
    "data_dict = pd.read_pickle('/LARGE0/gr10478/b37974/Pulmonary_Hypertension/cteph_graph/data/merged_pqtl_additive_apt.pkl')\n",
    "\n",
    "base = importr('base')\n",
    "env = ro.Environment()\n",
    "\n",
    "for snpid, df in data_dict.items():\n",
    "    print(f\"Processing {snpid}\") # check progress of the loop \n",
    "    r_df = pandas2ri.py2rpy(df)  # convert pandas DataFrame to R DataFrame\n",
    "    env[snpid] = r_df\n",
    "    print(f\"{snpid} has {r_df.nrow} rows and {r_df.ncol} columns\")  # check the number of rows and columns of the R DataFrame"
   ]
  },
  {
   "cell_type": "code",
   "execution_count": 6,
   "metadata": {},
   "outputs": [
    {
     "data": {
      "text/plain": [
       "<rpy2.rinterface_lib.sexp.NULLType object at 0x7fb8e02ac750> [0]"
      ]
     },
     "execution_count": 6,
     "metadata": {},
     "output_type": "execute_result"
    }
   ],
   "source": [
    "keys_in_env = StrVector(list(env.keys()))\n",
    "base.save(file=\"data/merged_pqtl_additive_apt.rda\", list=keys_in_env, envir=env)"
   ]
  }
 ],
 "metadata": {
  "kernelspec": {
   "display_name": "cteph_geno_pro",
   "language": "python",
   "name": "python3"
  },
  "language_info": {
   "codemirror_mode": {
    "name": "ipython",
    "version": 3
   },
   "file_extension": ".py",
   "mimetype": "text/x-python",
   "name": "python",
   "nbconvert_exporter": "python",
   "pygments_lexer": "ipython3",
   "version": "3.12.3"
  }
 },
 "nbformat": 4,
 "nbformat_minor": 2
}
